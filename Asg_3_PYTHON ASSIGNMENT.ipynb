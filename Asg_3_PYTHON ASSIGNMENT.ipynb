{
 "cells": [
  {
   "cell_type": "code",
   "execution_count": null,
   "id": "62bbb01f-b149-4a8f-baf9-acfd7e7fee06",
   "metadata": {},
   "outputs": [],
   "source": [
    "                                                                FOR LOOP"
   ]
  },
  {
   "cell_type": "code",
   "execution_count": null,
   "id": "62936940-fd3c-49b2-81ba-8a2499268a52",
   "metadata": {},
   "outputs": [],
   "source": [
    "# Q1"
   ]
  },
  {
   "cell_type": "code",
   "execution_count": 3,
   "id": "27b3e0e9-3752-495a-8a52-99fdeb5b7339",
   "metadata": {},
   "outputs": [
    {
     "name": "stdout",
     "output_type": "stream",
     "text": [
      "1\n",
      "2\n",
      "3\n",
      "4\n",
      "5\n",
      "6\n",
      "7\n",
      "8\n",
      "9\n",
      "10\n"
     ]
    }
   ],
   "source": [
    "for i in range(1, 11):\n",
    "    print(i)"
   ]
  },
  {
   "cell_type": "code",
   "execution_count": null,
   "id": "f86ffe5f-6c7e-4999-a740-889c2bf7e72f",
   "metadata": {},
   "outputs": [],
   "source": [
    "# Q2"
   ]
  },
  {
   "cell_type": "raw",
   "id": "854ff175-2598-40d9-9430-e866d5b60639",
   "metadata": {},
   "source": [
    "                    FOR loop                                                                                 While loop\n",
    "* For loop is used to iterate over a sequence of items.                                * While loop is used to repeatedly execute a block of                                                                                                    statements while a condition is true.\n",
    "\n",
    "* For loops are designed for iterating over a sequence of items.                       * While loop is used when the number of iterations is not                                                                                                known in advance or when we want to repeat a block of code                                                                                            until a certain condition is met.\n",
    "\n",
    "* For loop require a sequence to iterate over.                                         * While the loop requires an initial condition that is tested                                                                                            at the beginning of the loop.\n",
    "\n",
    "* For loop is typically used for iterating over a fixed sequence of items.             * While loop is used for more complex control flow situations."
   ]
  },
  {
   "cell_type": "code",
   "execution_count": null,
   "id": "f0f8c0f7-b2d5-45b5-a813-0d8a689ad34f",
   "metadata": {},
   "outputs": [],
   "source": [
    "# Q3"
   ]
  },
  {
   "cell_type": "code",
   "execution_count": 4,
   "id": "a24abcc3-60c3-4417-8096-251309f573a1",
   "metadata": {},
   "outputs": [
    {
     "name": "stdout",
     "output_type": "stream",
     "text": [
      "The sum of numbers from 1 to 100 is: 5050\n"
     ]
    }
   ],
   "source": [
    "total = 0\n",
    "\n",
    "for i in range(1, 101):\n",
    "    total += i\n",
    "\n",
    "print(\"The sum of numbers from 1 to 100 is:\", total)"
   ]
  },
  {
   "cell_type": "code",
   "execution_count": null,
   "id": "0ee04bb3-20ed-4999-a937-a170af55593a",
   "metadata": {},
   "outputs": [],
   "source": [
    "# Q4"
   ]
  },
  {
   "cell_type": "raw",
   "id": "f2f174f2-9e55-41c9-ae84-fb63833f2518",
   "metadata": {},
   "source": [
    "In Python, we can iterate through a list using a for loop by directly referencing the list itself.\n",
    "example is given below."
   ]
  },
  {
   "cell_type": "code",
   "execution_count": 5,
   "id": "6f97c29f-f2bb-4495-84d4-96e9b033458c",
   "metadata": {},
   "outputs": [
    {
     "name": "stdout",
     "output_type": "stream",
     "text": [
      "1\n",
      "3\n",
      "5\n",
      "7\n",
      "9\n"
     ]
    }
   ],
   "source": [
    "my_list = [1, 3, 5, 7, 9]\n",
    "\n",
    "for item in my_list:\n",
    "    print(item)"
   ]
  },
  {
   "cell_type": "raw",
   "id": "d2acfe3a-f2b9-4450-b622-7154e6f25aaa",
   "metadata": {},
   "source": [
    "here, \n",
    "'my_list'includes some numbers.The for loop iterates through each element in my_list.\n",
    "For each iteration, the variable item takes on the value of the current element in the list, and you can perform operations using item within the loop. In this example, it's printing each item."
   ]
  },
  {
   "cell_type": "code",
   "execution_count": 6,
   "id": "602ab4ef-48f7-4720-8eee-356d19259836",
   "metadata": {},
   "outputs": [],
   "source": [
    "# Q5"
   ]
  },
  {
   "cell_type": "code",
   "execution_count": 7,
   "id": "92b0d5e7-7770-4fe9-ac9a-d03dbf2f3d26",
   "metadata": {},
   "outputs": [
    {
     "name": "stdout",
     "output_type": "stream",
     "text": [
      "The product of all elements in the list is: 1200\n"
     ]
    }
   ],
   "source": [
    "my_list = [2, 3, 4, 5, 10]\n",
    "\n",
    "product = 1\n",
    "\n",
    "# Calculate the product of all elements in the list\n",
    "for num in my_list:\n",
    "    product *= num\n",
    "\n",
    "print(\"The product of all elements in the list is:\", product)"
   ]
  },
  {
   "cell_type": "code",
   "execution_count": null,
   "id": "4bd27df9-541c-4c52-9af8-4a8672b0bfe6",
   "metadata": {},
   "outputs": [],
   "source": [
    "# Q6"
   ]
  },
  {
   "cell_type": "code",
   "execution_count": 8,
   "id": "bb5ee07a-e9bd-4bf4-8f08-c67258b4759e",
   "metadata": {},
   "outputs": [
    {
     "name": "stdout",
     "output_type": "stream",
     "text": [
      "2\n",
      "4\n",
      "6\n",
      "8\n",
      "10\n",
      "12\n",
      "14\n",
      "16\n",
      "18\n",
      "20\n"
     ]
    }
   ],
   "source": [
    "for i in range(2, 21, 2):\n",
    "    print(i)"
   ]
  },
  {
   "cell_type": "code",
   "execution_count": null,
   "id": "ef34aba1-3eb9-4b11-ab65-d416eed67b06",
   "metadata": {},
   "outputs": [],
   "source": [
    "# Q7"
   ]
  },
  {
   "cell_type": "code",
   "execution_count": 11,
   "id": "51815f1e-7f11-42fc-8f8b-adc03f268b1d",
   "metadata": {},
   "outputs": [
    {
     "name": "stdout",
     "output_type": "stream",
     "text": [
      "The factorial of 5 is: 120\n"
     ]
    }
   ],
   "source": [
    "def calculate_factorial(n):\n",
    "    factorial = 1\n",
    "\n",
    "    # Check if the number is negative, zero, or positive\n",
    "    if n < 0:\n",
    "        return \"Factorial is not defined for negative numbers.\"\n",
    "    elif n == 0:\n",
    "        return 1\n",
    "    else:\n",
    "        # Calculate factorial using a for loop\n",
    "        for i in range(1, n + 1):\n",
    "            factorial *= i\n",
    "        return factorial\n",
    "\n",
    "# Input number to calculate factorial\n",
    "number = 5  # Replace this with any number for which you want to calculate factorial\n",
    "\n",
    "result = calculate_factorial(number)\n",
    "print(f\"The factorial of {number} is: {result}\")"
   ]
  },
  {
   "cell_type": "code",
   "execution_count": 12,
   "id": "26677d95-e466-4dcb-8994-233e97e3c1ad",
   "metadata": {},
   "outputs": [],
   "source": [
    "# Q8"
   ]
  },
  {
   "cell_type": "raw",
   "id": "0bb655f0-0748-4f78-b6b6-8b6badee3c36",
   "metadata": {},
   "source": [
    "In Python, you can iterate through the characters of a string using a `for` loop by directly referencing the string itself. \n",
    "For example,"
   ]
  },
  {
   "cell_type": "code",
   "execution_count": 13,
   "id": "9732c39c-f817-4727-be66-e0fccf01b027",
   "metadata": {},
   "outputs": [
    {
     "name": "stdout",
     "output_type": "stream",
     "text": [
      "H\n",
      "e\n",
      "l\n",
      "l\n",
      "o\n"
     ]
    }
   ],
   "source": [
    "my_string = \"Hello\"\n",
    "\n",
    "for char in my_string:\n",
    "    print(char)"
   ]
  },
  {
   "cell_type": "raw",
   "id": "41afa190-a6a7-4737-ae39-54f98af49c25",
   "metadata": {},
   "source": [
    "here, 'my_string' is a string containing characters.The for loop iterates through each character in 'my_string'.\n",
    "For each iteration, the variable char takes on the value of the current character in the string, allowing you to perform operations using char within the loop. In this example, it's printing each char"
   ]
  },
  {
   "cell_type": "code",
   "execution_count": 14,
   "id": "f7d39d79-967b-4bf6-a1c1-b0807b2eb0f0",
   "metadata": {},
   "outputs": [],
   "source": [
    "# Q9"
   ]
  },
  {
   "cell_type": "code",
   "execution_count": 15,
   "id": "2b55a037-dbc4-481d-92a9-2cf43c234679",
   "metadata": {},
   "outputs": [
    {
     "name": "stdout",
     "output_type": "stream",
     "text": [
      "The largest number in the list is: 91\n"
     ]
    }
   ],
   "source": [
    "my_list = [12, 45, 78, 23, 56, 91, 34]\n",
    "\n",
    "# Initialize the maximum variable with the first element of the list\n",
    "maximum = my_list[0]\n",
    "\n",
    "# Iterate through the list to find the maximum number\n",
    "for num in my_list:\n",
    "    if num > maximum:\n",
    "        maximum = num\n",
    "\n",
    "# Print the largest number\n",
    "print(\"The largest number in the list is:\", maximum)"
   ]
  },
  {
   "cell_type": "code",
   "execution_count": 16,
   "id": "ff6d996c-bd4c-4907-b69e-629b94217069",
   "metadata": {},
   "outputs": [],
   "source": [
    "# Q12"
   ]
  },
  {
   "cell_type": "code",
   "execution_count": 21,
   "id": "34aec99c-f446-44c2-807b-9427c6a256cf",
   "metadata": {},
   "outputs": [
    {
     "name": "stdout",
     "output_type": "stream",
     "text": [
      "Multiplication table for 7:\n",
      "7 * 1 = 7\n",
      "7 * 2 = 14\n",
      "7 * 3 = 21\n",
      "7 * 4 = 28\n",
      "7 * 5 = 35\n",
      "7 * 6 = 42\n",
      "7 * 7 = 49\n",
      "7 * 8 = 56\n",
      "7 * 9 = 63\n",
      "7 * 10 = 70\n"
     ]
    }
   ],
   "source": [
    "def multiplication_table(number):\n",
    "    print(f\"Multiplication table for {number}:\")\n",
    "    for i in range(1, 11):\n",
    "        result = number * i\n",
    "        print(f\"{number} * {i} = {result}\")\n",
    "\n",
    "# Input number for which multiplication table is needed\n",
    "given_number = 7  # Replace this with any number\n",
    "\n",
    "# Call the function to generate the multiplication table for the given number\n",
    "multiplication_table(given_number)"
   ]
  },
  {
   "cell_type": "code",
   "execution_count": 22,
   "id": "67b6c10a-1897-43af-add9-33174939db5c",
   "metadata": {},
   "outputs": [],
   "source": [
    "# Q13"
   ]
  },
  {
   "cell_type": "code",
   "execution_count": 23,
   "id": "ec34b2fa-1e79-4202-90d4-cc05da5d5c9f",
   "metadata": {},
   "outputs": [
    {
     "name": "stdout",
     "output_type": "stream",
     "text": [
      "Original list: [5, 4, 3, 2, 1]\n",
      "Reversed list: [1, 2, 3, 4, 5]\n"
     ]
    }
   ],
   "source": [
    "def reverse_list(original_list):\n",
    "    reversed_list = []\n",
    "\n",
    "    # Iterate through the original list in reverse order\n",
    "    for i in range(len(original_list) - 1, -1, -1):\n",
    "        reversed_list.append(original_list[i])\n",
    "\n",
    "    return reversed_list\n",
    "\n",
    "# Original list\n",
    "my_list = [5, 4,3, 2, 1]  # Replace this with any list\n",
    "\n",
    "# Call the function to reverse the original list\n",
    "reversed_result = reverse_list(my_list)\n",
    "print(\"Original list:\", my_list)\n",
    "print(\"Reversed list:\", reversed_result)"
   ]
  },
  {
   "cell_type": "code",
   "execution_count": 24,
   "id": "58753c9c-cd2f-4194-8da7-3613a6387c7f",
   "metadata": {},
   "outputs": [],
   "source": [
    "# Q14"
   ]
  },
  {
   "cell_type": "code",
   "execution_count": 25,
   "id": "f4346dc4-9bd1-4cbf-bf68-481ea69fd4a6",
   "metadata": {},
   "outputs": [
    {
     "name": "stdout",
     "output_type": "stream",
     "text": [
      "Common elements between list_a and list_b: [2, 4]\n"
     ]
    }
   ],
   "source": [
    "def find_common_elements(list1, list2):\n",
    "    common_elements = []\n",
    "\n",
    "    # Iterate through elements in list1\n",
    "    for item in list1:\n",
    "        # Check if the element is present in list2 and not already in common_elements\n",
    "        if item in list2 and item not in common_elements:\n",
    "            common_elements.append(item)\n",
    "\n",
    "    return common_elements\n",
    "\n",
    "list_a = [1, 2, 3, 4, 5]\n",
    "list_b = [2, 4, 8, 6, 7]\n",
    "\n",
    "# Call the function to find common elements between the two lists\n",
    "common_elements_result = find_common_elements(list_a, list_b)\n",
    "print(\"Common elements between list_a and list_b:\", common_elements_result)"
   ]
  },
  {
   "cell_type": "code",
   "execution_count": 26,
   "id": "46033765-9eeb-4019-af8e-2474404d958d",
   "metadata": {},
   "outputs": [],
   "source": [
    "# Q15"
   ]
  },
  {
   "cell_type": "raw",
   "id": "19ca83b0-5834-4331-9d8d-77ac98fc0435",
   "metadata": {},
   "source": [
    "A for loop is used to iterate through the keys, values, or key-value pairs (items) of a dictionary. \n",
    "we can do it as explained below,\n",
    "\n",
    "Iterating Through Keys:\n",
    "onecan directly iterate through the keys of a dictionary using a for loop.\n",
    "suppose we run the code -\n",
    "my_dict = {'a': 1, 'b': 2, 'c': 3}\n",
    "\n",
    "# Iterating through keys\n",
    "for key in my_dict:\n",
    "    print(key)    \n",
    "Then this loop will print each key in the dictionary 'my_dict'.\n",
    "\n",
    "\n",
    "we can use the .values() method to iterate through the values of a dictionary.\n",
    "lets suppose we run the code -\n",
    "\n",
    "my_dict = {'a': 1, 'b': 2, 'c': 3}\n",
    "\n",
    "# Iterating through values\n",
    "for value in my_dict.values():\n",
    "    print(value)\n",
    "Then this will print each value in the dictionary 'my_dict'."
   ]
  },
  {
   "cell_type": "code",
   "execution_count": 1,
   "id": "aae4ceee-cbb1-491e-a889-18cdd29f81bd",
   "metadata": {},
   "outputs": [],
   "source": [
    "# Q16 "
   ]
  },
  {
   "cell_type": "code",
   "execution_count": 2,
   "id": "0ae0bb51-1a31-49fd-ac87-6b38a40f82d6",
   "metadata": {},
   "outputs": [
    {
     "name": "stdout",
     "output_type": "stream",
     "text": [
      "The GCD of 72 and 67 is: 1\n"
     ]
    }
   ],
   "source": [
    "def find_gcd(a, b):\n",
    "    while b:\n",
    "        a, b = b, a % b\n",
    "    return a\n",
    "\n",
    "num1 = 72\n",
    "num2 = 67\n",
    "\n",
    "# the function to find the GCD of the two numbers\n",
    "gcd_result = find_gcd(num1, num2)\n",
    "print(f\"The GCD of {num1} and {num2} is:\", gcd_result)"
   ]
  },
  {
   "cell_type": "code",
   "execution_count": null,
   "id": "ec0bf161-6b25-4bbc-9b1d-0e889a602ba9",
   "metadata": {},
   "outputs": [],
   "source": [
    "# Q17"
   ]
  },
  {
   "cell_type": "code",
   "execution_count": 4,
   "id": "cb838555-1124-4968-a267-9c6e40f92e0f",
   "metadata": {},
   "outputs": [
    {
     "name": "stdout",
     "output_type": "stream",
     "text": [
      "The string 'radar level' is not a palindrome.\n"
     ]
    }
   ],
   "source": [
    "def is_palindrome(input_string):\n",
    "    # Remove spaces and convert the string to lowercase for comparison\n",
    "    cleaned_string = input_string.replace(\" \", \"\").lower()\n",
    "\n",
    "    # Initialize pointers for checking palindrome\n",
    "    left = 0\n",
    "    right = len(cleaned_string) - 1\n",
    "\n",
    "    # Check if the string is a palindrome using a for loop\n",
    "    for i in range(len(cleaned_string) // 2):\n",
    "        if cleaned_string[left] != cleaned_string[right]:\n",
    "            return False\n",
    "        left += 1\n",
    "        right -= 1\n",
    "\n",
    "    return True\n",
    "\n",
    "# Input string to check for palindrome\n",
    "given_string = \"radar level\"  # Replace this with any string\n",
    "\n",
    "# Call the function to check if the input string is a palindrome\n",
    "result = is_palindrome(given_string)\n",
    "if result:\n",
    "    print(f\"The string '{given_string}' is a palindrome.\")\n",
    "else:\n",
    "    print(f\"The string '{given_string}' is not a palindrome.\")\n"
   ]
  },
  {
   "cell_type": "code",
   "execution_count": 5,
   "id": "45ebef9f-aba9-4bd4-bccc-affc48d125dd",
   "metadata": {},
   "outputs": [],
   "source": [
    "# Q18"
   ]
  },
  {
   "cell_type": "code",
   "execution_count": 6,
   "id": "1558dc64-6451-4238-81a1-784560588599",
   "metadata": {},
   "outputs": [
    {
     "name": "stdout",
     "output_type": "stream",
     "text": [
      "Original list: [1, 2, 7, 3, 4, 4, 5, 7, 6]\n",
      "List after removing duplicates: [1, 2, 7, 3, 4, 5, 6]\n"
     ]
    }
   ],
   "source": [
    "def remove_duplicates(input_list):\n",
    "    unique_list = []\n",
    "\n",
    "    for item in input_list:\n",
    "        if item not in unique_list:\n",
    "            unique_list.append(item)\n",
    "\n",
    "    return unique_list\n",
    "\n",
    "# Input list with duplicates\n",
    "my_list = [1, 2, 7, 3, 4, 4, 5, 7, 6]  # Replace this with any list\n",
    "\n",
    "# Call the function to remove duplicates from the list\n",
    "result = remove_duplicates(my_list)\n",
    "print(\"Original list:\", my_list)\n",
    "print(\"List after removing duplicates:\", result)"
   ]
  },
  {
   "cell_type": "code",
   "execution_count": 7,
   "id": "02676c8e-e3da-4725-be6a-9d571a7a6d99",
   "metadata": {},
   "outputs": [],
   "source": [
    "# Q19"
   ]
  },
  {
   "cell_type": "code",
   "execution_count": 8,
   "id": "a738bd8f-cc6f-4428-8077-3f72754ad822",
   "metadata": {},
   "outputs": [
    {
     "name": "stdout",
     "output_type": "stream",
     "text": [
      "The number of words in the sentence is: 4\n"
     ]
    }
   ],
   "source": [
    "def count_words(sentence):\n",
    "    # Split the sentence into words using split() method\n",
    "    words = sentence.split()\n",
    "\n",
    "    # Return the count of words\n",
    "    return len(words)\n",
    "\n",
    "given_sentence = \"This is developing India.\"  # Replace this with any sentence\n",
    "\n",
    "# the function to count the number of words in the sentence\n",
    "result = count_words(given_sentence)\n",
    "print(f\"The number of words in the sentence is: {result}\")"
   ]
  },
  {
   "cell_type": "code",
   "execution_count": 9,
   "id": "c7a87ce8-e457-40f1-8e1e-e693d7150cd5",
   "metadata": {},
   "outputs": [],
   "source": [
    "# Q20"
   ]
  },
  {
   "cell_type": "code",
   "execution_count": 10,
   "id": "6c0e94c1-15fe-4bcb-af24-1bd816d0513f",
   "metadata": {},
   "outputs": [
    {
     "name": "stdout",
     "output_type": "stream",
     "text": [
      "The sum of odd numbers from 1 to 50 is: 625\n"
     ]
    }
   ],
   "source": [
    "# the sum variable\n",
    "odd_sum = 0\n",
    "\n",
    "# Using a for loop to find the sum of odd numbers from 1 to 50\n",
    "for i in range(1, 51, 2):\n",
    "    odd_sum += i\n",
    "\n",
    "print(\"The sum of odd numbers from 1 to 50 is:\", odd_sum)"
   ]
  },
  {
   "cell_type": "code",
   "execution_count": 11,
   "id": "1841c758-9520-43be-8206-1f0f3d25d570",
   "metadata": {},
   "outputs": [],
   "source": [
    "# Q21"
   ]
  },
  {
   "cell_type": "code",
   "execution_count": 12,
   "id": "44804f3e-4e77-43ef-bd3b-276d2e0739b1",
   "metadata": {},
   "outputs": [
    {
     "name": "stdout",
     "output_type": "stream",
     "text": [
      "2020 is a leap year.\n",
      "2021 is not a leap year.\n",
      "2024 is a leap year.\n",
      "2100 is not a leap year.\n"
     ]
    }
   ],
   "source": [
    "# Function to check if a year is a leap year\n",
    "def is_leap_year(year):\n",
    "    if (year % 4 == 0 and year % 100 != 0) or (year % 400 == 0):\n",
    "        return True\n",
    "    else:\n",
    "        return False\n",
    "\n",
    "# Input year(s) to check\n",
    "years_to_check = [2020, 2021, 2024, 2100]  # Replace with any year(s) you want to check\n",
    "\n",
    "# Using a for loop to check each year\n",
    "for year in years_to_check:\n",
    "    if is_leap_year(year):\n",
    "        print(f\"{year} is a leap year.\")\n",
    "    else:\n",
    "        print(f\"{year} is not a leap year.\")"
   ]
  },
  {
   "cell_type": "code",
   "execution_count": 13,
   "id": "333ccc9b-4379-4cc2-84ca-ff82f3657efb",
   "metadata": {},
   "outputs": [],
   "source": [
    "# Q22"
   ]
  },
  {
   "cell_type": "code",
   "execution_count": 14,
   "id": "808e3600-9b9b-4e41-b6b7-aa305f4bd763",
   "metadata": {},
   "outputs": [
    {
     "name": "stdout",
     "output_type": "stream",
     "text": [
      "The square root of 25 is approximately: 5.0\n"
     ]
    }
   ],
   "source": [
    "def calculate_square_root(number):\n",
    "    # Define the number of iterations for approximation\n",
    "    iterations = 1000\n",
    "\n",
    "    # Initial guess for the square root\n",
    "    guess = number / 2.0\n",
    "\n",
    "    # Approximation using a for loop\n",
    "    for _ in range(iterations):\n",
    "        guess = (guess + number / guess) / 2.0\n",
    "\n",
    "    return guess\n",
    "\n",
    "# Input number to find its square root\n",
    "given_number = 25  # Replace this with any number\n",
    "\n",
    "# Calculate and print the square root\n",
    "result = calculate_square_root(given_number)\n",
    "print(f\"The square root of {given_number} is approximately: {result}\")"
   ]
  },
  {
   "cell_type": "code",
   "execution_count": 15,
   "id": "19c882b6-6646-435a-b671-8aabdd417672",
   "metadata": {},
   "outputs": [],
   "source": [
    "# Q23"
   ]
  },
  {
   "cell_type": "code",
   "execution_count": 16,
   "id": "2f666a95-154f-4c25-b0e9-b4bc45114f29",
   "metadata": {},
   "outputs": [
    {
     "name": "stdout",
     "output_type": "stream",
     "text": [
      "The LCM of 12 and 18 is: 36\n"
     ]
    }
   ],
   "source": [
    "# Function to find the LCM of two numbers\n",
    "def find_lcm(x, y):\n",
    "    lcm = (x * y) // find_gcd(x, y)\n",
    "    return lcm\n",
    "\n",
    "# Input numbers\n",
    "num1 = 12\n",
    "num2 = 18\n",
    "\n",
    "# Calculate and print the LCM of the two numbers\n",
    "lcm_result = find_lcm(num1, num2)\n",
    "print(f\"The LCM of {num1} and {num2} is: {lcm_result}\")"
   ]
  },
  {
   "cell_type": "raw",
   "id": "2f35a4c2-4556-474b-87e3-e7ce65d52f4c",
   "metadata": {},
   "source": [
    "                                                                If else "
   ]
  },
  {
   "cell_type": "code",
   "execution_count": 1,
   "id": "9ed6de89-2830-4637-8366-f75767d38806",
   "metadata": {},
   "outputs": [],
   "source": [
    "# Q1"
   ]
  },
  {
   "cell_type": "code",
   "execution_count": 2,
   "id": "d1886c9f-b86c-4e51-8b42-5b7273f4bb6b",
   "metadata": {},
   "outputs": [
    {
     "name": "stdout",
     "output_type": "stream",
     "text": [
      "The number is positive.\n"
     ]
    }
   ],
   "source": [
    "def check_number(number):\n",
    "    if number > 0:\n",
    "        print(\"The number is positive.\")\n",
    "    elif number < 0:\n",
    "        print(\"The number is negative.\")\n",
    "    else:\n",
    "        print(\"The number is zero.\")\n",
    "\n",
    "given_number = 17\n",
    "check_number(given_number)"
   ]
  },
  {
   "cell_type": "code",
   "execution_count": 3,
   "id": "9a14fff9-4f74-4ce1-a0d9-b51e5282968b",
   "metadata": {},
   "outputs": [],
   "source": [
    "# Q2"
   ]
  },
  {
   "cell_type": "code",
   "execution_count": 4,
   "id": "133e0776-1106-433c-9496-3b2a877bc8ed",
   "metadata": {},
   "outputs": [
    {
     "name": "stdout",
     "output_type": "stream",
     "text": [
      "The number is odd.\n"
     ]
    }
   ],
   "source": [
    "def check_even_odd(number):\n",
    "    if number % 2 == 0:\n",
    "        print(\"The number is even.\")\n",
    "    else:\n",
    "        print(\"The number is odd.\")\n",
    "\n",
    "given_number = 7  \n",
    "check_even_odd(given_number)\n"
   ]
  },
  {
   "cell_type": "code",
   "execution_count": 5,
   "id": "a6dc3f6c-0764-407b-9695-6e94c7ed4fe4",
   "metadata": {},
   "outputs": [],
   "source": [
    "# Q3"
   ]
  },
  {
   "cell_type": "code",
   "execution_count": 6,
   "id": "20a4d098-f9b6-409f-b7d4-c6ebce3688b6",
   "metadata": {},
   "outputs": [
    {
     "name": "stdout",
     "output_type": "stream",
     "text": [
      "Grade is A\n"
     ]
    }
   ],
   "source": [
    "# Nested if-else statements example\n",
    "def nested_example(score):\n",
    "    if score >= 90:\n",
    "        print(\"Grade is A\")\n",
    "    else:\n",
    "        if score >= 80:\n",
    "            print(\"Grade is B\")\n",
    "        else:\n",
    "            if score >= 70:\n",
    "                print(\"Grade is C\")\n",
    "            else:\n",
    "                print(\"Grade is below C\")\n",
    "given_score = 90  \n",
    "# Call the function with nested if-else statements\n",
    "nested_example(given_score)"
   ]
  },
  {
   "cell_type": "code",
   "execution_count": 7,
   "id": "511fb0d5-794d-494b-b98a-b1166f1de21d",
   "metadata": {},
   "outputs": [],
   "source": [
    "# Q4"
   ]
  },
  {
   "cell_type": "code",
   "execution_count": 8,
   "id": "5ef8bade-1df7-4259-bb8d-bcb3bd28c281",
   "metadata": {},
   "outputs": [
    {
     "name": "stdout",
     "output_type": "stream",
     "text": [
      "83 is the largest number.\n"
     ]
    }
   ],
   "source": [
    "# Determine the largest of three numbers\n",
    "def find_largest(a, b, c):\n",
    "    if a >= b and a >= c:\n",
    "        print(f\"{a} is the largest number.\")\n",
    "    elif b >= a and b >= c:\n",
    "        print(f\"{b} is the largest number.\")\n",
    "    else:\n",
    "        print(f\"{c} is the largest number.\")\n",
    "\n",
    "# Input three numbers\n",
    "num1 = 71\n",
    "num2 = 83\n",
    "num3 = 72\n",
    "\n",
    "# Call the function to find the largest number\n",
    "find_largest(num1, num2, num3)"
   ]
  },
  {
   "cell_type": "code",
   "execution_count": 9,
   "id": "4158bbfa-bddd-43da-be3b-7fb8f2ccd6bd",
   "metadata": {},
   "outputs": [],
   "source": [
    "# Q5"
   ]
  },
  {
   "cell_type": "code",
   "execution_count": 10,
   "id": "250bb291-0c05-4215-b2db-e36b8a4d9c65",
   "metadata": {},
   "outputs": [
    {
     "name": "stdout",
     "output_type": "stream",
     "text": [
      "The absolute value of -7 is 7.\n"
     ]
    }
   ],
   "source": [
    "# Calculate the absolute value of a number\n",
    "def absolute_value(number):\n",
    "    if number >= 0:\n",
    "        print(f\"The absolute value of {number} is {number}.\")\n",
    "    else:\n",
    "        print(f\"The absolute value of {number} is {-number}.\")\n",
    "\n",
    "# Input number\n",
    "given_number = -7  # Replace this with any number\n",
    "\n",
    "# Call the function to calculate the absolute value\n",
    "absolute_value(given_number)"
   ]
  },
  {
   "cell_type": "code",
   "execution_count": 11,
   "id": "ac80309a-a4a5-4ec5-a7f3-f19e67e28139",
   "metadata": {},
   "outputs": [],
   "source": [
    "# Q6"
   ]
  },
  {
   "cell_type": "code",
   "execution_count": 12,
   "id": "2e21fe96-8d76-4366-9bc9-378fd65701f0",
   "metadata": {},
   "outputs": [
    {
     "name": "stdout",
     "output_type": "stream",
     "text": [
      "The character 'A' is a vowel.\n"
     ]
    }
   ],
   "source": [
    "# Check if a character is a vowel or consonant\n",
    "def check_vowel_consonant(char):\n",
    "    if char.lower() in 'aeiou':\n",
    "        print(f\"The character '{char}' is a vowel.\")\n",
    "    else:\n",
    "        print(f\"The character '{char}' is a consonant.\")\n",
    "\n",
    "# Input character\n",
    "given_char = 'A'  # Replace this with any character\n",
    "\n",
    "# Call the function to check vowel or consonant\n",
    "check_vowel_consonant(given_char)"
   ]
  },
  {
   "cell_type": "code",
   "execution_count": 1,
   "id": "59f1b39a-ae0b-46d7-ac3b-0a7b1e2090eb",
   "metadata": {},
   "outputs": [],
   "source": [
    "# Q7"
   ]
  },
  {
   "cell_type": "code",
   "execution_count": 4,
   "id": "17d5b6ef-7256-461a-8138-61ee51cb3ea7",
   "metadata": {},
   "outputs": [
    {
     "name": "stdin",
     "output_type": "stream",
     "text": [
      "Enter your age:  23\n"
     ]
    },
    {
     "name": "stdout",
     "output_type": "stream",
     "text": [
      "You are eligible to vote!\n"
     ]
    }
   ],
   "source": [
    "def check_voter_eligibility(age):\n",
    "    if age >= 18:\n",
    "        print(\"You are eligible to vote!\")\n",
    "    else:\n",
    "        print(\"You are not eligible to vote yet.\")\n",
    "\n",
    "# Get user input for age\n",
    "user_age = int(input(\"Enter your age: \"))\n",
    "check_voter_eligibility(user_age)"
   ]
  },
  {
   "cell_type": "code",
   "execution_count": 2,
   "id": "abdb06ed-5234-400d-99b5-5219e79a72a7",
   "metadata": {},
   "outputs": [],
   "source": [
    "# Q8"
   ]
  },
  {
   "cell_type": "code",
   "execution_count": 5,
   "id": "b0f2f8cd-8a28-4e44-a723-9a42f9dc4c87",
   "metadata": {},
   "outputs": [
    {
     "name": "stdin",
     "output_type": "stream",
     "text": [
      "Enter your purchase amount: $ 1999\n"
     ]
    },
    {
     "name": "stdout",
     "output_type": "stream",
     "text": [
      "Your discount amount is: $199.90\n"
     ]
    }
   ],
   "source": [
    "def calculate_discount(purchase_amount):\n",
    "    if purchase_amount >= 100:\n",
    "        discount = 0.1 * purchase_amount  # 10% discount for purchases >= $100\n",
    "    else:\n",
    "        discount = 0\n",
    "    return discount\n",
    "\n",
    "# Get user input for purchase amount\n",
    "user_purchase_amount = float(input(\"Enter your purchase amount: $\"))\n",
    "discount_amount = calculate_discount(user_purchase_amount)\n",
    "print(f\"Your discount amount is: ${discount_amount:.2f}\")"
   ]
  },
  {
   "cell_type": "code",
   "execution_count": 3,
   "id": "1b89f113-c2fd-4482-b575-98829ad6118e",
   "metadata": {},
   "outputs": [],
   "source": [
    "# Q9"
   ]
  },
  {
   "cell_type": "code",
   "execution_count": 6,
   "id": "65f4b674-9ce3-4020-9b86-290d4d23bc3b",
   "metadata": {},
   "outputs": [
    {
     "name": "stdin",
     "output_type": "stream",
     "text": [
      "Enter a number:  3.14\n",
      "Enter the lower limit of the range:  0\n",
      "Enter the upper limit of the range:  3.139\n"
     ]
    },
    {
     "name": "stdout",
     "output_type": "stream",
     "text": [
      "3.14 is not within the specified range.\n"
     ]
    }
   ],
   "source": [
    "def check_number_in_range(number, lower_limit, upper_limit):\n",
    "    if lower_limit <= number <= upper_limit:\n",
    "        print(f\"{number} is within the specified range.\")\n",
    "    else:\n",
    "        print(f\"{number} is not within the specified range.\")\n",
    "\n",
    "# Get user input for number, lower limit, and upper limit\n",
    "user_number = float(input(\"Enter a number: \"))\n",
    "lower_limit = float(input(\"Enter the lower limit of the range: \"))\n",
    "upper_limit = float(input(\"Enter the upper limit of the range: \"))\n",
    "check_number_in_range(user_number, lower_limit, upper_limit)"
   ]
  },
  {
   "cell_type": "code",
   "execution_count": null,
   "id": "53ef08af-bc9d-49c8-b053-c6fe1b40fd7e",
   "metadata": {},
   "outputs": [],
   "source": [
    "# Q10"
   ]
  },
  {
   "cell_type": "code",
   "execution_count": 7,
   "id": "4979c62d-2dac-49c3-b852-05eea4e7b012",
   "metadata": {},
   "outputs": [
    {
     "name": "stdin",
     "output_type": "stream",
     "text": [
      "Enter your score:  82\n"
     ]
    },
    {
     "name": "stdout",
     "output_type": "stream",
     "text": [
      "Your grade is: B\n"
     ]
    }
   ],
   "source": [
    "def determine_grade(score):\n",
    "    if score >= 90:\n",
    "        grade = 'A'\n",
    "    elif score >= 80:\n",
    "        grade = 'B'\n",
    "    elif score >= 70:\n",
    "        grade = 'C'\n",
    "    elif score >= 60:\n",
    "        grade = 'D'\n",
    "    else:\n",
    "        grade = 'F'\n",
    "    return grade\n",
    "\n",
    "# Get user input for score\n",
    "user_score = float(input(\"Enter your score: \"))\n",
    "user_grade = determine_grade(user_score)\n",
    "print(f\"Your grade is: {user_grade}\")"
   ]
  },
  {
   "cell_type": "code",
   "execution_count": 8,
   "id": "36f577d8-e168-4224-a10d-c9915deec90c",
   "metadata": {},
   "outputs": [],
   "source": [
    "# Q11"
   ]
  },
  {
   "cell_type": "code",
   "execution_count": 13,
   "id": "7f3a7742-9e10-4944-94fb-3d2cedc18081",
   "metadata": {},
   "outputs": [
    {
     "name": "stdin",
     "output_type": "stream",
     "text": [
      "Enter a string:  a\n"
     ]
    },
    {
     "name": "stdout",
     "output_type": "stream",
     "text": [
      "The string is not empty.\n"
     ]
    }
   ],
   "source": [
    "def check_string_empty(string):\n",
    "    if not string: \n",
    "        print(\"The string is empty.\")\n",
    "    else:\n",
    "        print(\"The string is not empty.\")\n",
    "\n",
    "user_string = input(\"Enter a string: \")\n",
    "check_string_empty(user_string)"
   ]
  },
  {
   "cell_type": "code",
   "execution_count": 9,
   "id": "260dae98-d7fd-443e-8009-cb9c1e61abc0",
   "metadata": {},
   "outputs": [],
   "source": [
    "# Q12"
   ]
  },
  {
   "cell_type": "code",
   "execution_count": 14,
   "id": "c40538cf-db34-4e26-bd39-b99e7c8834d3",
   "metadata": {},
   "outputs": [
    {
     "name": "stdin",
     "output_type": "stream",
     "text": [
      "Enter the length of side a:  22\n",
      "Enter the length of side b:  12\n",
      "Enter the length of side c:  10\n"
     ]
    },
    {
     "name": "stdout",
     "output_type": "stream",
     "text": [
      "It is a scalene triangle.\n"
     ]
    }
   ],
   "source": [
    "def triangle_type(a, b, c):\n",
    "    if a == b == c:\n",
    "        print(\"It is an equilateral triangle.\")\n",
    "    elif a == b or b == c or a == c:\n",
    "        print(\"It is an isosceles triangle.\")\n",
    "    else:\n",
    "        print(\"It is a scalene triangle.\")\n",
    "\n",
    "# Get user input for triangle sides\n",
    "side_a = float(input(\"Enter the length of side a: \"))\n",
    "side_b = float(input(\"Enter the length of side b: \"))\n",
    "side_c = float(input(\"Enter the length of side c: \"))\n",
    "triangle_type(side_a, side_b, side_c)"
   ]
  },
  {
   "cell_type": "code",
   "execution_count": 10,
   "id": "9a7fc719-4675-495d-a69d-ffdbc7190e40",
   "metadata": {},
   "outputs": [],
   "source": [
    "# Q13"
   ]
  },
  {
   "cell_type": "code",
   "execution_count": 15,
   "id": "a41ba7af-8051-45d7-bc0a-b9abd74e9f80",
   "metadata": {},
   "outputs": [
    {
     "name": "stdin",
     "output_type": "stream",
     "text": [
      "Enter a number (1-7) to represent the day of the week:  4\n"
     ]
    },
    {
     "name": "stdout",
     "output_type": "stream",
     "text": [
      "It is Thursday.\n"
     ]
    }
   ],
   "source": [
    "def get_day_of_week(day_number):\n",
    "    if day_number == 1:\n",
    "        print(\"It is Monday.\")\n",
    "    elif day_number == 2:\n",
    "        print(\"It is Tuesday.\")\n",
    "    elif day_number == 3:\n",
    "        print(\"It is Wednesday.\")\n",
    "    elif day_number == 4:\n",
    "        print(\"It is Thursday.\")\n",
    "    elif day_number == 5:\n",
    "        print(\"It is Friday.\")\n",
    "    elif day_number == 6:\n",
    "        print(\"It is Saturday.\")\n",
    "    elif day_number == 7:\n",
    "        print(\"It is Sunday.\")\n",
    "    else:\n",
    "        print(\"Invalid day number provided.\")\n",
    "\n",
    "# Get user input for day number\n",
    "user_day = int(input(\"Enter a number (1-7) to represent the day of the week: \"))\n",
    "get_day_of_week(user_day)"
   ]
  },
  {
   "cell_type": "code",
   "execution_count": 11,
   "id": "7a9d9a71-6539-4a8d-ae45-ca83a429ad4c",
   "metadata": {},
   "outputs": [],
   "source": [
    "# Q14"
   ]
  },
  {
   "cell_type": "code",
   "execution_count": 16,
   "id": "5d7f80d6-cbd0-4230-b607-83f559af2f0c",
   "metadata": {},
   "outputs": [
    {
     "name": "stdin",
     "output_type": "stream",
     "text": [
      "Enter a year:  2024\n"
     ]
    },
    {
     "name": "stdout",
     "output_type": "stream",
     "text": [
      "2024 is a leap year.\n"
     ]
    }
   ],
   "source": [
    "def is_leap_year(year):\n",
    "    if (year % 4 == 0 and year % 100 != 0) or (year % 400 == 0):\n",
    "        return True\n",
    "    else:\n",
    "        return False\n",
    "\n",
    "# Get user input for year\n",
    "user_year = int(input(\"Enter a year: \"))\n",
    "if is_leap_year(user_year):\n",
    "    print(f\"{user_year} is a leap year.\")\n",
    "else:\n",
    "    print(f\"{user_year} is not a leap year.\")"
   ]
  },
  {
   "cell_type": "code",
   "execution_count": 12,
   "id": "76172e3a-0b74-4dc8-8abe-1e20521332ff",
   "metadata": {},
   "outputs": [],
   "source": [
    "# Q15"
   ]
  },
  {
   "cell_type": "code",
   "execution_count": null,
   "id": "900477d1-9110-41a8-a593-2ddc870ed2ae",
   "metadata": {},
   "outputs": [],
   "source": [
    "The assert statement in Python is used for debugging purposes. \n",
    "It raises an AssertionError if the given condition is False."
   ]
  },
  {
   "cell_type": "code",
   "execution_count": 17,
   "id": "5f7f82e7-912b-43ac-8786-06513c2406da",
   "metadata": {},
   "outputs": [
    {
     "name": "stdin",
     "output_type": "stream",
     "text": [
      "Enter a number:  17\n"
     ]
    },
    {
     "name": "stdout",
     "output_type": "stream",
     "text": [
      "Number is positive.\n"
     ]
    }
   ],
   "source": [
    "def check_number_positive(number):\n",
    "    assert number > 0, \"Number should be positive.\"\n",
    "    print(\"Number is positive.\")\n",
    "\n",
    "# Using the function with assert statement\n",
    "user_number = int(input(\"Enter a number: \"))\n",
    "check_number_positive(user_number)"
   ]
  },
  {
   "cell_type": "code",
   "execution_count": 18,
   "id": "a46a8c3f-fbd6-48be-98c7-ab777d562aee",
   "metadata": {},
   "outputs": [],
   "source": [
    "# Q16"
   ]
  },
  {
   "cell_type": "code",
   "execution_count": 22,
   "id": "8c8543ba-0c5e-423a-a126-1d388e79f7f1",
   "metadata": {},
   "outputs": [
    {
     "name": "stdin",
     "output_type": "stream",
     "text": [
      "Enter your age:  82\n"
     ]
    },
    {
     "name": "stdout",
     "output_type": "stream",
     "text": [
      "You are eligible for a senior citizen discount.\n"
     ]
    }
   ],
   "source": [
    "def check_senior_citizen_discount(age):\n",
    "    if age >= 60:\n",
    "        print(\"You are eligible for a senior citizen discount.\")\n",
    "    else:\n",
    "        print(\"You are not eligible for a senior citizen discount.\")\n",
    "\n",
    "# Get user input for age\n",
    "user_age = int(input(\"Enter your age: \"))\n",
    "check_senior_citizen_discount(user_age)"
   ]
  },
  {
   "cell_type": "code",
   "execution_count": 19,
   "id": "3de82696-5dff-4786-b5ef-e0e06f887651",
   "metadata": {},
   "outputs": [],
   "source": [
    "# Q17"
   ]
  },
  {
   "cell_type": "code",
   "execution_count": 23,
   "id": "0886b3aa-46a5-462c-9db9-e469849a81af",
   "metadata": {},
   "outputs": [
    {
     "name": "stdin",
     "output_type": "stream",
     "text": [
      "Enter a character:  DivyA\n"
     ]
    },
    {
     "name": "stdout",
     "output_type": "stream",
     "text": [
      "The character is neither uppercase nor lowercase.\n"
     ]
    }
   ],
   "source": [
    "def categorize_character(char):\n",
    "    if char.islower():\n",
    "        print(\"The character is lowercase.\")\n",
    "    elif char.isupper():\n",
    "        print(\"The character is uppercase.\")\n",
    "    else:\n",
    "        print(\"The character is neither uppercase nor lowercase.\")\n",
    "\n",
    "# Get user input for a character\n",
    "user_char = input(\"Enter a character: \")\n",
    "categorize_character(user_char)"
   ]
  },
  {
   "cell_type": "code",
   "execution_count": 20,
   "id": "42d4c525-4ad8-47f2-9ea6-8c85478e7b80",
   "metadata": {},
   "outputs": [],
   "source": [
    "# Q18"
   ]
  },
  {
   "cell_type": "code",
   "execution_count": 24,
   "id": "f29efb1f-7bbb-4ac6-9b50-0ce631dc17b7",
   "metadata": {},
   "outputs": [
    {
     "name": "stdin",
     "output_type": "stream",
     "text": [
      "Enter coefficient a:  4\n",
      "Enter coefficient b:  2\n",
      "Enter coefficient c:  1\n"
     ]
    },
    {
     "name": "stdout",
     "output_type": "stream",
     "text": [
      "The equation has no real roots.\n"
     ]
    }
   ],
   "source": [
    "def quadratic_roots(a, b, c):\n",
    "    discriminant = b**2 - 4*a*c\n",
    "    if discriminant > 0:\n",
    "        print(\"The equation has two real and distinct roots.\")\n",
    "    elif discriminant == 0:\n",
    "        print(\"The equation has two real and equal roots.\")\n",
    "    else:\n",
    "        print(\"The equation has no real roots.\")\n",
    "\n",
    "# Get user input for coefficients of the quadratic equation (ax^2 + bx + c)\n",
    "coeff_a = float(input(\"Enter coefficient a: \"))\n",
    "coeff_b = float(input(\"Enter coefficient b: \"))\n",
    "coeff_c = float(input(\"Enter coefficient c: \"))\n",
    "quadratic_roots(coeff_a, coeff_b, coeff_c)"
   ]
  },
  {
   "cell_type": "code",
   "execution_count": 21,
   "id": "144be6a6-ecec-4303-a7f1-a76cfec35317",
   "metadata": {},
   "outputs": [],
   "source": [
    "# Q19"
   ]
  },
  {
   "cell_type": "code",
   "execution_count": 25,
   "id": "999ee6ca-315c-473b-9d3e-4d62965b7fc2",
   "metadata": {},
   "outputs": [
    {
     "name": "stdin",
     "output_type": "stream",
     "text": [
      "Enter a year:  2030\n"
     ]
    },
    {
     "name": "stdout",
     "output_type": "stream",
     "text": [
      "2030 is not a century year.\n"
     ]
    }
   ],
   "source": [
    "def check_century_year(year):\n",
    "    if year % 100 == 0:\n",
    "        print(f\"{year} is a century year.\")\n",
    "    else:\n",
    "        print(f\"{year} is not a century year.\")\n",
    "\n",
    "# Get user input for year\n",
    "user_year = int(input(\"Enter a year: \"))\n",
    "check_century_year(user_year)"
   ]
  },
  {
   "cell_type": "code",
   "execution_count": null,
   "id": "ffe711c6-6d98-49f1-8202-a4fcc5832bc9",
   "metadata": {},
   "outputs": [],
   "source": [
    "# Q20"
   ]
  },
  {
   "cell_type": "code",
   "execution_count": 26,
   "id": "161ceeb9-7bfc-4f0d-bff6-8d25c70d6f80",
   "metadata": {},
   "outputs": [
    {
     "name": "stdin",
     "output_type": "stream",
     "text": [
      "Enter a number:  525\n"
     ]
    },
    {
     "name": "stdout",
     "output_type": "stream",
     "text": [
      "525 is not a perfect square.\n"
     ]
    }
   ],
   "source": [
    "def check_perfect_square(number):\n",
    "    square_root = number ** 0.5\n",
    "    if square_root == int(square_root):\n",
    "        print(f\"{number} is a perfect square.\")\n",
    "    else:\n",
    "        print(f\"{number} is not a perfect square.\")\n",
    "\n",
    "# Get user input for number\n",
    "user_number = int(input(\"Enter a number: \"))\n",
    "check_perfect_square(user_number)"
   ]
  },
  {
   "cell_type": "code",
   "execution_count": 27,
   "id": "2603acb5-1e7f-45f4-a976-8240caf67da1",
   "metadata": {},
   "outputs": [],
   "source": [
    "# Q21"
   ]
  },
  {
   "cell_type": "code",
   "execution_count": null,
   "id": "206ecfc7-9005-4948-ac15-4215be25532b",
   "metadata": {},
   "outputs": [],
   "source": [
    "Break statement stops the entire process of the loop.\n",
    "Break also terminates the remaining iterations. \n",
    "Continue statement only stops the current iteration of the loop. \n",
    "Continue doesn't terminate the next iterations; it resumes with the successive iterations."
   ]
  },
  {
   "cell_type": "code",
   "execution_count": 28,
   "id": "639b5346-f71b-4994-8cd9-8899b4024084",
   "metadata": {},
   "outputs": [],
   "source": [
    "# Q22"
   ]
  },
  {
   "cell_type": "code",
   "execution_count": 32,
   "id": "2d11688f-263f-417f-b80b-1d082168e070",
   "metadata": {},
   "outputs": [
    {
     "name": "stdin",
     "output_type": "stream",
     "text": [
      "Enter your weight in kg:  47\n",
      "Enter your height in meters:  1.55\n"
     ]
    },
    {
     "name": "stdout",
     "output_type": "stream",
     "text": [
      "Your BMI is: 19.56\n"
     ]
    }
   ],
   "source": [
    "def calculate_bmi(weight, height):\n",
    "    # BMI formula: weight (kg) / (height (m))^2\n",
    "    bmi = weight / (height ** 2)\n",
    "    return bmi\n",
    "\n",
    "# Get user input for weight (in kg) and height (in meters)\n",
    "user_weight = float(input(\"Enter your weight in kg: \"))\n",
    "user_height = float(input(\"Enter your height in meters: \"))\n",
    "\n",
    "bmi_result = calculate_bmi(user_weight, user_height)\n",
    "print(f\"Your BMI is: {bmi_result:.2f}\")"
   ]
  },
  {
   "cell_type": "code",
   "execution_count": 29,
   "id": "aa6438bd-8638-44be-b2be-08d978add276",
   "metadata": {},
   "outputs": [],
   "source": [
    "# Q23"
   ]
  },
  {
   "cell_type": "code",
   "execution_count": 33,
   "id": "12e56973-ce90-4f05-be3e-bd8ec473dec7",
   "metadata": {},
   "outputs": [
    {
     "name": "stdout",
     "output_type": "stream",
     "text": [
      "[2, 4, 6, 8, 10]\n"
     ]
    }
   ],
   "source": [
    "# Filter even numbers from a list using filter() and an if-else statement\n",
    "numbers = [1, 2, 3, 4, 5, 6, 7, 8, 9, 10]\n",
    "\n",
    "filtered_numbers = list(filter(lambda x: x % 2 == 0, numbers))\n",
    "print(filtered_numbers)  # Output will be [2, 4, 6, 8, 10]"
   ]
  },
  {
   "cell_type": "code",
   "execution_count": 30,
   "id": "29abf96a-7140-4d29-8a76-d5cfddc3641f",
   "metadata": {},
   "outputs": [],
   "source": [
    "# Q24"
   ]
  },
  {
   "cell_type": "code",
   "execution_count": 34,
   "id": "ab9bb465-6dee-4e1b-b76c-fe6f4c4457d1",
   "metadata": {},
   "outputs": [
    {
     "name": "stdin",
     "output_type": "stream",
     "text": [
      "Enter a number:  19\n"
     ]
    },
    {
     "name": "stdout",
     "output_type": "stream",
     "text": [
      "The number is prime.\n"
     ]
    }
   ],
   "source": [
    "def check_prime(number):\n",
    "    if number <= 1:\n",
    "        print(\"The number is not prime.\")\n",
    "    else:\n",
    "        for i in range(2, int(number**0.5) + 1):\n",
    "            if number % i == 0:\n",
    "                print(\"The number is not prime.\")\n",
    "                break\n",
    "        else:\n",
    "            print(\"The number is prime.\")\n",
    "\n",
    "# Get user input for number\n",
    "user_number = int(input(\"Enter a number: \"))\n",
    "check_prime(user_number)"
   ]
  },
  {
   "cell_type": "code",
   "execution_count": null,
   "id": "4beff9a5-23be-4eb2-833c-5f1dd283f510",
   "metadata": {},
   "outputs": [],
   "source": [
    "                                                            Map "
   ]
  },
  {
   "cell_type": "code",
   "execution_count": 35,
   "id": "cf50163e-5177-4d77-8052-54fb8a8c49e8",
   "metadata": {},
   "outputs": [],
   "source": [
    "# Q1"
   ]
  },
  {
   "cell_type": "raw",
   "id": "7b04121a-6789-43eb-ad19-c068a7c61349",
   "metadata": {},
   "source": [
    "The map() function in Python is used to apply a specified function to each item in an iterable (like a list) and \n",
    "return an iterator that yields the results.\n",
    "The purpose of map() is to perform an operation or transformation on each element of the iterable without the need for explicit looping. \n",
    "It's a way to apply a function to all items in an iterable in a concise and efficient manner."
   ]
  },
  {
   "cell_type": "code",
   "execution_count": 36,
   "id": "01cb947d-d904-43e0-b2b4-a52c6cbf021c",
   "metadata": {},
   "outputs": [
    {
     "name": "stdout",
     "output_type": "stream",
     "text": [
      "[1, 4, 9, 16, 25]\n"
     ]
    }
   ],
   "source": [
    "# Define a function to square a number\n",
    "def square_number(x):\n",
    "    return x ** 2\n",
    "\n",
    "# List of numbers\n",
    "numbers = [1, 2, 3, 4, 5]\n",
    "\n",
    "# Using map() to square each element of the list\n",
    "squared_numbers = list(map(square_number, numbers))\n",
    "print(squared_numbers)  # Output will be [1, 4, 9, 16, 25]"
   ]
  },
  {
   "cell_type": "code",
   "execution_count": 37,
   "id": "5042a277-64d4-4a21-811c-746291884573",
   "metadata": {},
   "outputs": [],
   "source": [
    "# Q2"
   ]
  },
  {
   "cell_type": "code",
   "execution_count": 38,
   "id": "9aa42e27-4033-4276-a873-fd610e7010a5",
   "metadata": {},
   "outputs": [
    {
     "name": "stdout",
     "output_type": "stream",
     "text": [
      "[49, 64, 100, 16, 144]\n"
     ]
    }
   ],
   "source": [
    "numbers = [7, 8, 10, 4, 12]\n",
    "\n",
    "# Using map() to square each element of the list\n",
    "squared_numbers = list(map(lambda x: x ** 2, numbers))\n",
    "\n",
    "print(squared_numbers)  # Output will be [49, 64, 100, 16, 144]"
   ]
  },
  {
   "cell_type": "code",
   "execution_count": 39,
   "id": "a141113c-34b0-4d76-a955-b127408464ef",
   "metadata": {},
   "outputs": [],
   "source": [
    "# Q3"
   ]
  },
  {
   "cell_type": "raw",
   "id": "63321b97-26a1-48f8-a5a8-ec7ef36df6b2",
   "metadata": {},
   "source": [
    "                map()     \n",
    "                \n",
    "1. it is a higher-order built-in function that takes a function and an iterable as arguments: map(function, iterable). It returns an iterator.\n",
    "2. map() applies a function to each item of the iterable and returns an iterator containing the results.               \n",
    "3. If you need to apply a function that already exists (or needs to be reused), map() might be preferable.                          \n",
    "                \n",
    "                List Comprehension\n",
    "1. it is a concise way to create lists based on some expression and an optional condition: [expression for item in iterable if condition].\n",
    "2. List comprehensions perform a transformation or filtering on each item in the iterable and create a new list.\n",
    "3. If the logic is simple and specific to creating a new list, list comprehensions offer a concise and readable solution."
   ]
  },
  {
   "cell_type": "code",
   "execution_count": 40,
   "id": "b8c9f88e-06ef-446b-9b70-11d19ef686a2",
   "metadata": {},
   "outputs": [],
   "source": [
    "# Q4"
   ]
  },
  {
   "cell_type": "code",
   "execution_count": 41,
   "id": "d66629ee-5463-4342-9494-3e004e9e73b2",
   "metadata": {},
   "outputs": [
    {
     "name": "stdout",
     "output_type": "stream",
     "text": [
      "['SHRINIDHI', 'DIVYA', 'TANVI']\n"
     ]
    }
   ],
   "source": [
    "# List of names\n",
    "names = ['shrinidhi', 'divya', 'tanvi']\n",
    "\n",
    "upper_names = list(map(str.upper, names))\n",
    "\n",
    "print(upper_names)  # Output will be ['SHRINIDHI', 'DIVYA', 'TANVI']"
   ]
  },
  {
   "cell_type": "code",
   "execution_count": 42,
   "id": "5a4e8c24-7d0d-40bf-9382-ed8f9a3b5832",
   "metadata": {},
   "outputs": [],
   "source": [
    "# Q5"
   ]
  },
  {
   "cell_type": "code",
   "execution_count": 43,
   "id": "7ac14990-4409-498b-a718-8ba194fe362c",
   "metadata": {},
   "outputs": [
    {
     "name": "stdout",
     "output_type": "stream",
     "text": [
      "[5, 4, 4]\n"
     ]
    }
   ],
   "source": [
    "# List of strings\n",
    "words = ['lotus', 'rose', 'lily']\n",
    "\n",
    "# Using map() to calculate the length of each word\n",
    "word_lengths = list(map(len, words))\n",
    "\n",
    "print(word_lengths)  # Output will be [5, 4, 4]"
   ]
  },
  {
   "cell_type": "code",
   "execution_count": 44,
   "id": "a6814ca3-3716-46ae-ba21-2bb2242e197b",
   "metadata": {},
   "outputs": [],
   "source": [
    "# Q6"
   ]
  },
  {
   "cell_type": "code",
   "execution_count": 45,
   "id": "788e5e2a-1a50-48b6-9714-b0b162f378d0",
   "metadata": {},
   "outputs": [],
   "source": [
    "# Q7"
   ]
  },
  {
   "cell_type": "code",
   "execution_count": 46,
   "id": "ed153411-4ab6-428f-968b-50bdd9c43a8a",
   "metadata": {},
   "outputs": [
    {
     "name": "stdout",
     "output_type": "stream",
     "text": [
      "[32.0, 50.0, 68.0, 86.0, 104.0]\n"
     ]
    }
   ],
   "source": [
    "# Custom function to convert Celsius to Fahrenheit\n",
    "def celsius_to_fahrenheit(celsius):\n",
    "    return (celsius * 9/5) + 32\n",
    "\n",
    "# List of temperatures in Celsius\n",
    "celsius_temperatures = [0, 10, 20, 30, 40]\n",
    "\n",
    "# Using map() to convert Celsius to Fahrenheit\n",
    "fahrenheit_temperatures = list(map(celsius_to_fahrenheit, celsius_temperatures))\n",
    "\n",
    "print(fahrenheit_temperatures)  # Output will be temperatures in Fahrenheit"
   ]
  },
  {
   "cell_type": "code",
   "execution_count": 47,
   "id": "7ff9765b-8ed7-4a4f-a994-430cd044e2ed",
   "metadata": {},
   "outputs": [],
   "source": [
    "# Q8"
   ]
  },
  {
   "cell_type": "code",
   "execution_count": 48,
   "id": "6eb5589f-10a7-43db-a6f5-12d8ec0fa01c",
   "metadata": {},
   "outputs": [
    {
     "name": "stdout",
     "output_type": "stream",
     "text": [
      "[3, 3, 2, 5, 7]\n"
     ]
    }
   ],
   "source": [
    "# List of floating-point numbers\n",
    "float_numbers = [3.14, 2.718, 1.5, 4.9, 6.75]\n",
    "\n",
    "# Using map() to round each element to the nearest integer\n",
    "rounded_numbers = list(map(round, float_numbers))\n",
    "\n",
    "print(rounded_numbers)  # Output will be [3, 3, 2, 5, 7]"
   ]
  },
  {
   "cell_type": "code",
   "execution_count": null,
   "id": "5739f973-48b3-463e-84ea-2b8e7a3d1a2c",
   "metadata": {},
   "outputs": [],
   "source": [
    "                                                                Reduce"
   ]
  },
  {
   "cell_type": "code",
   "execution_count": 50,
   "id": "47027c40-b0f2-43ee-81ff-7c32bc318bf9",
   "metadata": {},
   "outputs": [],
   "source": [
    "# Q2"
   ]
  },
  {
   "cell_type": "code",
   "execution_count": 51,
   "id": "06eae635-6488-4a39-a0a3-fbbe3efff7f2",
   "metadata": {},
   "outputs": [
    {
     "name": "stdout",
     "output_type": "stream",
     "text": [
      "Product: 120\n"
     ]
    }
   ],
   "source": [
    "from functools import reduce\n",
    "\n",
    "# List of numbers\n",
    "numbers = [2, 3, 4, 5]\n",
    "\n",
    "# Using reduce() to find the product of all elements\n",
    "product = reduce(lambda x, y: x * y, numbers)\n",
    "\n",
    "print(\"Product:\", product)  # Output will be the product of all elements in the list"
   ]
  },
  {
   "cell_type": "code",
   "execution_count": 52,
   "id": "e9c48b37-a6f1-4057-b598-9bdc0324b110",
   "metadata": {},
   "outputs": [],
   "source": [
    "# Q3"
   ]
  },
  {
   "cell_type": "code",
   "execution_count": 53,
   "id": "c5f95884-9b8b-432c-8dce-631d0c2d4dfb",
   "metadata": {},
   "outputs": [
    {
     "name": "stdout",
     "output_type": "stream",
     "text": [
      "Maximum number: 30\n"
     ]
    }
   ],
   "source": [
    "from functools import reduce\n",
    "\n",
    "# List of numbers\n",
    "numbers = [10, 7, 25, 14, 30, 21]\n",
    "\n",
    "# Using reduce() to find the maximum element in the list\n",
    "max_number = reduce(lambda x, y: x if x > y else y, numbers)\n",
    "\n",
    "print(\"Maximum number:\", max_number)  # Output will be the maximum element in the list"
   ]
  },
  {
   "cell_type": "code",
   "execution_count": 54,
   "id": "4d6325bd-1269-48d5-8bf7-1b393f402ac1",
   "metadata": {},
   "outputs": [],
   "source": [
    "# Q5"
   ]
  },
  {
   "cell_type": "code",
   "execution_count": 55,
   "id": "dc29ef71-f79e-48d7-8a46-c33961d936e0",
   "metadata": {},
   "outputs": [
    {
     "name": "stdin",
     "output_type": "stream",
     "text": [
      "Enter a number to calculate its factorial:  10\n"
     ]
    },
    {
     "name": "stdout",
     "output_type": "stream",
     "text": [
      "Factorial of 10 is: 3628800\n"
     ]
    }
   ],
   "source": [
    "from functools import reduce\n",
    "\n",
    "# Function to calculate factorial\n",
    "def calculate_factorial(n):\n",
    "    if n == 0 or n == 1:\n",
    "        return 1\n",
    "    else:\n",
    "        return reduce(lambda x, y: x * y, range(1, n + 1))\n",
    "\n",
    "# Input number for factorial calculation\n",
    "number = int(input(\"Enter a number to calculate its factorial: \"))\n",
    "\n",
    "# Calculate factorial using the function\n",
    "factorial = calculate_factorial(number)\n",
    "\n",
    "print(\"Factorial of\", number, \"is:\", factorial)"
   ]
  },
  {
   "cell_type": "code",
   "execution_count": 56,
   "id": "24d4e005-0401-43ae-b6fc-5d29513dbe0a",
   "metadata": {},
   "outputs": [],
   "source": [
    "# Q6"
   ]
  },
  {
   "cell_type": "code",
   "execution_count": 57,
   "id": "5988be18-87e8-405e-bceb-0def73121e01",
   "metadata": {},
   "outputs": [
    {
     "name": "stdout",
     "output_type": "stream",
     "text": [
      "GCD of the numbers: 6\n"
     ]
    }
   ],
   "source": [
    "from functools import reduce\n",
    "import math\n",
    "\n",
    "# List of numbers\n",
    "numbers = [12, 18, 24, 36]\n",
    "\n",
    "# Using reduce() to find the GCD of all elements in the list\n",
    "gcd_result = reduce(math.gcd, numbers)\n",
    "\n",
    "print(\"GCD of the numbers:\", gcd_result)  # Output will be the GCD of the numbers"
   ]
  },
  {
   "cell_type": "code",
   "execution_count": null,
   "id": "a83846d3-5100-48c7-b435-52b1542874cd",
   "metadata": {},
   "outputs": [],
   "source": [
    "# Q7"
   ]
  },
  {
   "cell_type": "code",
   "execution_count": 58,
   "id": "fd260005-cc27-48e9-b675-e6b1c0c0bdf4",
   "metadata": {},
   "outputs": [
    {
     "name": "stdin",
     "output_type": "stream",
     "text": [
      "Enter a number to calculate the sum of its digits:  44\n"
     ]
    },
    {
     "name": "stdout",
     "output_type": "stream",
     "text": [
      "Sum of digits of 44 is: 8\n"
     ]
    }
   ],
   "source": [
    "from functools import reduce\n",
    "\n",
    "# Function to calculate the sum of digits\n",
    "def sum_of_digits(number):\n",
    "    return reduce(lambda x, y: int(x) + int(y), str(number), 0)\n",
    "\n",
    "# Input number for digit sum calculation\n",
    "number = int(input(\"Enter a number to calculate the sum of its digits: \"))\n",
    "\n",
    "# Calculate sum of digits using the function\n",
    "digit_sum = sum_of_digits(number)\n",
    "\n",
    "print(\"Sum of digits of\", number, \"is:\", digit_sum)"
   ]
  },
  {
   "cell_type": "code",
   "execution_count": null,
   "id": "a6465ce1-0ad5-4695-af86-999b96fd51af",
   "metadata": {},
   "outputs": [],
   "source": []
  }
 ],
 "metadata": {
  "kernelspec": {
   "display_name": "Python 3 (ipykernel)",
   "language": "python",
   "name": "python3"
  },
  "language_info": {
   "codemirror_mode": {
    "name": "ipython",
    "version": 3
   },
   "file_extension": ".py",
   "mimetype": "text/x-python",
   "name": "python",
   "nbconvert_exporter": "python",
   "pygments_lexer": "ipython3",
   "version": "3.10.8"
  }
 },
 "nbformat": 4,
 "nbformat_minor": 5
}
